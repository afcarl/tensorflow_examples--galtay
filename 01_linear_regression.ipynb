{
 "cells": [
  {
   "cell_type": "markdown",
   "metadata": {},
   "source": [
    "# Imports"
   ]
  },
  {
   "cell_type": "code",
   "execution_count": 1,
   "metadata": {},
   "outputs": [
    {
     "name": "stderr",
     "output_type": "stream",
     "text": [
      "/home/galtay/anaconda3/envs/ml/lib/python3.6/site-packages/statsmodels/compat/pandas.py:56: FutureWarning: The pandas.core.datetools module is deprecated and will be removed in a future version. Please use the pandas.tseries module instead.\n",
      "  from pandas.core import datetools\n"
     ]
    }
   ],
   "source": [
    "import pandas as pd\n",
    "import numpy as np\n",
    "import tensorflow as tf\n",
    "from tensorflow.contrib import keras\n",
    "from sklearn import datasets\n",
    "from sklearn import linear_model\n",
    "import statsmodels.api as sm\n",
    "\n",
    "import matplotlib.pyplot as plt\n",
    "%matplotlib inline\n",
    "import seaborn as sns"
   ]
  },
  {
   "cell_type": "markdown",
   "metadata": {},
   "source": [
    "# Simple Mock Data\n",
    "\n",
    "Lets create a simple mock dataset with one independent variable and one dependent variable with a little noise. "
   ]
  },
  {
   "cell_type": "code",
   "execution_count": 2,
   "metadata": {},
   "outputs": [
    {
     "data": {
      "text/plain": [
       "array([-2.0517912 ,  4.08511933])"
      ]
     },
     "execution_count": 2,
     "metadata": {},
     "output_type": "execute_result"
    }
   ],
   "source": [
    "Nsamp = 50\n",
    "Nfeatures = 1\n",
    "xarr = np.linspace(-0.5, 0.5, Nsamp)\n",
    "np.random.seed(83749)\n",
    "beta_0 = -2.0\n",
    "beta_1 = 4.3\n",
    "yarr = (beta_0 + beta_1 * xarr) + (np.random.normal(size=Nsamp) * 0.5)\n",
    "\n",
    "mdl = linear_model.LinearRegression(fit_intercept=False)\n",
    "mdl = mdl.fit(np.c_[np.ones(Nsamp), xarr], yarr)\n",
    "mdl.coef_"
   ]
  },
  {
   "cell_type": "code",
   "execution_count": 3,
   "metadata": {},
   "outputs": [
    {
     "data": {
      "text/plain": [
       "[<matplotlib.lines.Line2D at 0x7ff9809bb278>]"
      ]
     },
     "execution_count": 3,
     "metadata": {},
     "output_type": "execute_result"
    },
    {
     "data": {
      "image/png": "[encoded data removed]",
      "text/plain": [
       "<matplotlib.figure.Figure at 0x7ff980a01240>"
      ]
     },
     "metadata": {},
     "output_type": "display_data"
    }
   ],
   "source": [
    "fig, ax = plt.subplots(figsize=(5,5))\n",
    "plt.scatter(xarr, yarr, s=10, color='blue')\n",
    "plt.plot(xarr, mdl.coef_[0] + mdl.coef_[1] * xarr, color='red')"
   ]
  },
  {
   "cell_type": "code",
   "execution_count": 5,
   "metadata": {
    "collapsed": true
   },
   "outputs": [],
   "source": [
    "ph_x = tf.placeholder(tf.float32, [None, Nfeatures], name='features')\n",
    "ph_y = tf.placeholder(tf.float32, [None, 1], name='output')\n",
    "ph_x, ph_y\n",
    "\n",
    "# Set model weights\n",
    "v_W = tf.Variable(tf.random_normal([Nfeatures, 1]), name='weights')\n",
    "v_b = tf.Variable(tf.zeros([1]), name='bias')\n",
    "v_z = tf.matmul(ph_x, v_W) + v_b\n",
    "cost_1 = tf.squared_difference(v_z, ph_y)\n",
    "cost_2 = tf.reduce_mean(cost_1)\n",
    "\n",
    "learning_rate=0.1\n",
    "train_step = tf.train.GradientDescentOptimizer(learning_rate).minimize(cost_2)\n",
    "# Construct model and encapsulating all ops into scopes, making\n",
    "# Tensorboard's Graph visualization more convenient\n",
    "#with tf.name_scope('Model'):\n",
    "#    # Model\n",
    "#    pred = tf.matmul(x, W) + b # basic linear regression\n",
    "#with tf.name_scope('Loss'):\n",
    "#    # Minimize error (mean squared error)\n",
    "#    cost = tf.reduce_mean(-tf.reduce_sum(y - pred)*tf.log(pred), reduction_indices=1))\n",
    "#with tf.name_scope('SGD'):\n",
    "#    # Gradient Descent\n",
    "#    optimizer = tf.train.GradientDescentOptimizer(learning_rate).minimize(cost)\n",
    "#with tf.name_scope('Accuracy'):\n",
    "#    # Accuracy\n",
    "#    acc = tf.equal(tf.argmax(pred, 1), tf.argmax(y, 1))\n",
    "#    acc = tf.reduce_mean(tf.cast(acc, tf.float32))\n",
    "\n"
   ]
  },
  {
   "cell_type": "code",
   "execution_count": 6,
   "metadata": {},
   "outputs": [
    {
     "name": "stdout",
     "output_type": "stream",
     "text": [
      "[[ 4.06889343]]\n",
      "[-2.05179071]\n"
     ]
    }
   ],
   "source": [
    "init = tf.global_variables_initializer()\n",
    "\n",
    "merged = tf.summary.merge_all()\n",
    "\n",
    "\n",
    "\n",
    "# Launch the graph\n",
    "feed_dict = {ph_x: xarr.reshape(Nsamp, 1), ph_y: yarr.reshape(Nsamp,1)}\n",
    "with tf.Session() as sess:\n",
    "    train_writer = tf.summary.FileWriter('/tmp/tensorflow/logs', sess.graph)\n",
    "    \n",
    "    sess.run(init)\n",
    "    z_out = sess.run(v_z, feed_dict=feed_dict)\n",
    "    cost_1_out = sess.run(cost_1, feed_dict=feed_dict)\n",
    "    cost_2_out = sess.run(cost_2, feed_dict=feed_dict)\n",
    "    for i in range(300):\n",
    "        train_step_out = sess.run(train_step, feed_dict=feed_dict)\n",
    "    W_out = sess.run(v_W, feed_dict=feed_dict)\n",
    "    b_out = sess.run(v_b, feed_dict=feed_dict)\n",
    "\n",
    "print(W_out)\n",
    "print(b_out)\n"
   ]
  },
  {
   "cell_type": "markdown",
   "metadata": {},
   "source": [
    "# Boston Housing Dataset\n",
    "\n",
    "  - ## `feautres`: raw features variables in DataFrame \n",
    "  - ## `target`: raw target variable in DataFrame"
   ]
  },
  {
   "cell_type": "code",
   "execution_count": null,
   "metadata": {
    "collapsed": true
   },
   "outputs": [],
   "source": [
    "boston = datasets.load_boston()\n",
    "print(boston['DESCR'])\n",
    "features = pd.DataFrame(data=boston['data'], columns=boston['feature_names'])\n",
    "target = pd.DataFrame(data=boston['target'], columns=['MEDV'])"
   ]
  },
  {
   "cell_type": "code",
   "execution_count": null,
   "metadata": {
    "collapsed": true
   },
   "outputs": [],
   "source": [
    "features.head(5)"
   ]
  },
  {
   "cell_type": "code",
   "execution_count": null,
   "metadata": {
    "collapsed": true
   },
   "outputs": [],
   "source": [
    "target.head(5)"
   ]
  },
  {
   "cell_type": "code",
   "execution_count": null,
   "metadata": {
    "collapsed": true
   },
   "outputs": [],
   "source": [
    "hh = features.hist(figsize=(14,18))"
   ]
  },
  {
   "cell_type": "markdown",
   "metadata": {},
   "source": [
    "# Center and Normalize"
   ]
  },
  {
   "cell_type": "code",
   "execution_count": null,
   "metadata": {
    "collapsed": true
   },
   "outputs": [],
   "source": [
    "from sklearn.preprocessing import StandardScaler\n",
    "scalerX = StandardScaler()\n",
    "scalerX.fit(features)\n",
    "dfXn = pd.DataFrame(data=scalerX.transform(features), columns=features.columns)\n",
    "scalerY = StandardScaler()\n",
    "scalerY.fit(target)\n",
    "dfYn = pd.DataFrame(data=scalerY.transform(target), columns=target.columns)"
   ]
  },
  {
   "cell_type": "code",
   "execution_count": null,
   "metadata": {
    "collapsed": true
   },
   "outputs": [],
   "source": [
    "dfXn.head(5)"
   ]
  },
  {
   "cell_type": "code",
   "execution_count": null,
   "metadata": {
    "collapsed": true
   },
   "outputs": [],
   "source": [
    "dfYn.head(5)"
   ]
  },
  {
   "cell_type": "markdown",
   "metadata": {},
   "source": [
    "# Statsmodels Linear Regression"
   ]
  },
  {
   "cell_type": "code",
   "execution_count": null,
   "metadata": {
    "collapsed": true
   },
   "outputs": [],
   "source": [
    "dfXn1 = dfXn.copy()\n",
    "dfXn1.insert(loc=0, column='intercept', value=1)\n",
    "results = sm.OLS(dfYn, dfXn1).fit()\n",
    "print(results.summary())"
   ]
  },
  {
   "cell_type": "code",
   "execution_count": null,
   "metadata": {
    "collapsed": true
   },
   "outputs": [],
   "source": [
    "dfYn.max()\n",
    "target.max()"
   ]
  },
  {
   "cell_type": "code",
   "execution_count": null,
   "metadata": {
    "collapsed": true
   },
   "outputs": [],
   "source": [
    "plt.scatter(dfYn.values, results.fittedvalues.values)"
   ]
  },
  {
   "cell_type": "code",
   "execution_count": null,
   "metadata": {
    "collapsed": true
   },
   "outputs": [],
   "source": [
    "from sklearn import linear_model\n",
    "mdl = linear_model.LinearRegression(fit_intercept=False)\n",
    "mdl = mdl.fit(dfXn1.values, dfYn.values)"
   ]
  },
  {
   "cell_type": "code",
   "execution_count": null,
   "metadata": {
    "collapsed": true
   },
   "outputs": [],
   "source": [
    "print('n_params (statsmodels): ', len(results.params))\n",
    "print('n params (sklearn linear): ', len(mdl.coef_.flatten()))"
   ]
  },
  {
   "cell_type": "code",
   "execution_count": null,
   "metadata": {
    "collapsed": true
   },
   "outputs": [],
   "source": [
    "print(results.params)\n",
    "print()\n",
    "print(mdl.coef_)"
   ]
  },
  {
   "cell_type": "code",
   "execution_count": null,
   "metadata": {
    "collapsed": true
   },
   "outputs": [],
   "source": [
    "np.all(np.abs(mdl.coef_ - results.params.values) < 1.0e-10)"
   ]
  },
  {
   "cell_type": "code",
   "execution_count": null,
   "metadata": {
    "collapsed": true
   },
   "outputs": [],
   "source": [
    "plt.scatter(dfYn.values, mdl.predict(dfXn1.values).flatten())"
   ]
  },
  {
   "cell_type": "markdown",
   "metadata": {},
   "source": [
    "# Linear Regression, Keras"
   ]
  },
  {
   "cell_type": "code",
   "execution_count": null,
   "metadata": {
    "collapsed": true
   },
   "outputs": [],
   "source": [
    "from keras.models import Sequential\n",
    "from keras.layers import Dense, InputLayer\n",
    "from keras.optimizers import SGD, Adam, RMSprop\n",
    "from keras.losses import mean_squared_error"
   ]
  },
  {
   "cell_type": "code",
   "execution_count": null,
   "metadata": {
    "collapsed": true
   },
   "outputs": [],
   "source": [
    "nfeatures = features.shape[1]\n",
    "model = Sequential()\n",
    "model.add(InputLayer(input_shape=(nfeatures,), name='input'))\n",
    "model.add(Dense(1, kernel_initializer='uniform', activation='linear', name='dense_1'))\n",
    "model.summary()\n",
    "weights_initial = model.get_weights()\n",
    "\n",
    "print('weights_initial - input nodes: \\n', weights_initial[0])\n",
    "print('weights_initial - bias node: ', weights_initial[1])"
   ]
  },
  {
   "cell_type": "code",
   "execution_count": null,
   "metadata": {
    "collapsed": true
   },
   "outputs": [],
   "source": [
    "model.compile(optimizer=RMSprop(lr=0.001), loss='mean_squared_error')"
   ]
  },
  {
   "cell_type": "code",
   "execution_count": null,
   "metadata": {
    "collapsed": true
   },
   "outputs": [],
   "source": [
    "dfYn.shape"
   ]
  },
  {
   "cell_type": "code",
   "execution_count": null,
   "metadata": {
    "collapsed": true
   },
   "outputs": [],
   "source": [
    "model.set_weights(weights_initial)\n",
    "history = model.fit(dfXn.values, dfYn.values, epochs=5000, batch_size=dfYn.shape[0], verbose=0)"
   ]
  },
  {
   "cell_type": "code",
   "execution_count": null,
   "metadata": {
    "collapsed": true
   },
   "outputs": [],
   "source": [
    "plt.plot(history.history['loss'])"
   ]
  },
  {
   "cell_type": "code",
   "execution_count": null,
   "metadata": {
    "collapsed": true
   },
   "outputs": [],
   "source": [
    "model.get_weights()"
   ]
  },
  {
   "cell_type": "code",
   "execution_count": null,
   "metadata": {
    "collapsed": true
   },
   "outputs": [],
   "source": [
    "mdl.coef_"
   ]
  },
  {
   "cell_type": "code",
   "execution_count": null,
   "metadata": {
    "collapsed": true
   },
   "outputs": [],
   "source": [
    "plt.scatter(model.get_weights()[0].flatten(), mdl.coef_.flatten()[1:])"
   ]
  },
  {
   "cell_type": "code",
   "execution_count": null,
   "metadata": {
    "collapsed": true
   },
   "outputs": [],
   "source": [
    "fig, ax = plt.subplots(figsize=(10,10))\n",
    "plt.scatter(dfYn.values, mdl.predict(dfXn1.values).flatten(), color='red', alpha=0.6, marker='o')\n",
    "plt.scatter(dfYn.values, model.predict(dfXn.values), color='blue', alpha=0.6, marker='+')"
   ]
  },
  {
   "cell_type": "code",
   "execution_count": null,
   "metadata": {
    "collapsed": true
   },
   "outputs": [],
   "source": [
    "# tf Graph Input\n",
    "\n",
    "# input data \n",
    "n_samples, n_features = features.shape\n",
    "x = tf.placeholder(tf.float32, [None, n_features], name='InputData')\n",
    "# output data \n",
    "y = tf.placeholder(tf.float32, [None, 1], name='TargetData')\n",
    "\n",
    "# Set model weights\n",
    "W = tf.Variable(tf.random_normal([n_features, 1]), name='Weights')\n",
    "b = tf.Variable(tf.zeros([1]), name='Bias')\n",
    "z = tf.matmul(x,W) + b\n",
    "cost_1 = tf.squared_difference(z,y)\n",
    "cost_2 = tf.reduce_mean(cost_1)\n",
    "\n",
    "learning_rate=0.1\n",
    "train_step = tf.train.GradientDescentOptimizer(learning_rate).minimize(cost_2)\n",
    "# Construct model and encapsulating all ops into scopes, making\n",
    "# Tensorboard's Graph visualization more convenient\n",
    "#with tf.name_scope('Model'):\n",
    "#    # Model\n",
    "#    pred = tf.matmul(x, W) + b # basic linear regression\n",
    "#with tf.name_scope('Loss'):\n",
    "#    # Minimize error (mean squared error)\n",
    "#    cost = tf.reduce_mean(-tf.reduce_sum(y - pred)*tf.log(pred), reduction_indices=1))\n",
    "#with tf.name_scope('SGD'):\n",
    "#    # Gradient Descent\n",
    "#    optimizer = tf.train.GradientDescentOptimizer(learning_rate).minimize(cost)\n",
    "#with tf.name_scope('Accuracy'):\n",
    "#    # Accuracy\n",
    "#    acc = tf.equal(tf.argmax(pred, 1), tf.argmax(y, 1))\n",
    "#    acc = tf.reduce_mean(tf.cast(acc, tf.float32))\n",
    "\n",
    "\n"
   ]
  },
  {
   "cell_type": "code",
   "execution_count": null,
   "metadata": {
    "collapsed": true
   },
   "outputs": [],
   "source": [
    "tf.Session().run(y, feed_dict={x: features.values, y: target.values}).shape"
   ]
  },
  {
   "cell_type": "code",
   "execution_count": null,
   "metadata": {
    "collapsed": true
   },
   "outputs": [],
   "source": [
    "init = tf.global_variables_initializer()\n",
    "# Launch the graph\n",
    "with tf.Session() as sess:\n",
    "    sess.run(init)\n",
    "    z_out = sess.run(z, feed_dict={x: features.values, y:target.values})\n",
    "    cost_1_out = sess.run(cost_1, feed_dict={x: features.values, y:target.values})\n",
    "    cost_2_out = sess.run(cost_2, feed_dict={x: features.values, y:target.values})\n",
    "    for i in range(100):\n",
    "        train_step_out = sess.run(train_step, feed_dict={x: features.values, y:target.values})\n",
    "print(cost_1_out[0:5,:])\n",
    "print(cost_2_out)\n",
    "print(train_step_out)"
   ]
  },
  {
   "cell_type": "code",
   "execution_count": null,
   "metadata": {
    "collapsed": true
   },
   "outputs": [],
   "source": []
  },
  {
   "cell_type": "code",
   "execution_count": null,
   "metadata": {
    "collapsed": true
   },
   "outputs": [],
   "source": [
    "sess = tf.Session()"
   ]
  },
  {
   "cell_type": "code",
   "execution_count": null,
   "metadata": {
    "collapsed": true
   },
   "outputs": [],
   "source": [
    "sess.run(c)"
   ]
  },
  {
   "cell_type": "code",
   "execution_count": null,
   "metadata": {
    "collapsed": true
   },
   "outputs": [],
   "source": [
    "x"
   ]
  },
  {
   "cell_type": "code",
   "execution_count": null,
   "metadata": {
    "collapsed": true
   },
   "outputs": [],
   "source": [
    "y"
   ]
  },
  {
   "cell_type": "code",
   "execution_count": null,
   "metadata": {
    "collapsed": true
   },
   "outputs": [],
   "source": [
    "W"
   ]
  },
  {
   "cell_type": "code",
   "execution_count": null,
   "metadata": {
    "collapsed": true
   },
   "outputs": [],
   "source": [
    "b"
   ]
  },
  {
   "cell_type": "code",
   "execution_count": null,
   "metadata": {
    "collapsed": true
   },
   "outputs": [],
   "source": []
  }
 ],
 "metadata": {
  "kernelspec": {
   "display_name": "Python 3",
   "language": "python",
   "name": "python3"
  },
  "language_info": {
   "codemirror_mode": {
    "name": "ipython",
    "version": 3
   },
   "file_extension": ".py",
   "mimetype": "text/x-python",
   "name": "python",
   "nbconvert_exporter": "python",
   "pygments_lexer": "ipython3",
   "version": "3.6.1"
  }
 },
 "nbformat": 4,
 "nbformat_minor": 2
}
